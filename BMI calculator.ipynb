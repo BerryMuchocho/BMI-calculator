{
 "cells": [
  {
   "cell_type": "code",
   "execution_count": 25,
   "id": "7168baa0-6326-43c5-8708-f82a86f6fd34",
   "metadata": {},
   "outputs": [
    {
     "name": "stdin",
     "output_type": "stream",
     "text": [
      "Enter your height in m:  1.65\n",
      "Enter your weight in kg:  56\n"
     ]
    },
    {
     "name": "stdout",
     "output_type": "stream",
     "text": [
      "Your BMI is 20.569329660238754\n",
      "Your BMI is 20\n"
     ]
    }
   ],
   "source": [
    "# BMI Calculator \n",
    "\n",
    "# to get BMI = weight in kg divided by height in meters (m) squared \n",
    "\n",
    "height = input(\"Enter your height in m: \")\n",
    "weight = input(\"Enter your weight in kg: \")\n",
    "\n",
    "# bmi = weight / height ** 2  then convert the string inputs into int and float\n",
    "\n",
    "bmi = int(weight) / float(height) ** 2\n",
    "\n",
    "#Convert the bmi to a whole number\n",
    "\n",
    "bmi_as_int = int(bmi)\n",
    "print(\"Your BMI is \" + str(bmi_as_int))\n",
    "\n"
   ]
  },
  {
   "cell_type": "code",
   "execution_count": null,
   "id": "aec3a987-9392-4c16-9399-12c77f178479",
   "metadata": {},
   "outputs": [],
   "source": []
  }
 ],
 "metadata": {
  "kernelspec": {
   "display_name": "Python 3 (ipykernel)",
   "language": "python",
   "name": "python3"
  },
  "language_info": {
   "codemirror_mode": {
    "name": "ipython",
    "version": 3
   },
   "file_extension": ".py",
   "mimetype": "text/x-python",
   "name": "python",
   "nbconvert_exporter": "python",
   "pygments_lexer": "ipython3",
   "version": "3.12.5"
  }
 },
 "nbformat": 4,
 "nbformat_minor": 5
}
